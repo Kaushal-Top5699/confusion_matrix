{
  "nbformat": 4,
  "nbformat_minor": 0,
  "metadata": {
    "colab": {
      "provenance": [],
      "authorship_tag": "ABX9TyMoM5eOsYhxLxf9s/Xksl4j",
      "include_colab_link": true
    },
    "kernelspec": {
      "name": "python3",
      "display_name": "Python 3"
    },
    "language_info": {
      "name": "python"
    }
  },
  "cells": [
    {
      "cell_type": "markdown",
      "metadata": {
        "id": "view-in-github",
        "colab_type": "text"
      },
      "source": [
        "<a href=\"https://colab.research.google.com/github/Kaushal-Top5699/confusion_matrix/blob/main/Confusion_Matrix_Prettifier.ipynb\" target=\"_parent\"><img src=\"https://colab.research.google.com/assets/colab-badge.svg\" alt=\"Open In Colab\"/></a>"
      ]
    },
    {
      "cell_type": "code",
      "execution_count": 4,
      "metadata": {
        "id": "aoP1pVjuzv2T"
      },
      "outputs": [],
      "source": [
        "# Prettifing confusion matrix.\n",
        "def plot_confusion_matrix(y_test, pred):\n",
        "  import itertools\n",
        "  import numpy as np\n",
        "  import matplotlib.pyplot as plt\n",
        "  from sklearn.metrics import confusion_matrix\n",
        "\n",
        "  figsize = (7, 7)\n",
        "\n",
        "  # Create a confusion matrix.\n",
        "  cm = confusion_matrix(y_test, pred)\n",
        "  cm_norm = cm.astype(\"float\") / cm.sum(axis = 1)[:, np.newaxis] # Normalize our confusion matrix.\n",
        "  n_classes = cm.shape[0]\n",
        "\n",
        "  fig, ax = plt.subplots(figsize = figsize)\n",
        "\n",
        "  # Create a matrix plot.\n",
        "  cax = ax.matshow(cm, cmap = plt.cm.Blues)\n",
        "  fig.colorbar(cax)\n",
        "\n",
        "  classes = False\n",
        "\n",
        "  if classes:\n",
        "    labels = classes\n",
        "  else:\n",
        "    labels = np.arange(cm.shape[0])\n",
        "\n",
        "  # Create lables.\n",
        "  ax.set(title = \"Confusion Matrix\",\n",
        "        xlabel = \"Prediction Label\",\n",
        "        ylabel = \"True Lable\",\n",
        "        xticks = np.arange(n_classes),\n",
        "        yticks = np.arange(n_classes),\n",
        "        xticklabels = labels,\n",
        "        yticklabels = labels)\n",
        "\n",
        "  # Set x-axis labels to bottom.\n",
        "  ax.xaxis.set_label_position(\"bottom\")\n",
        "  ax.xaxis.tick_bottom()\n",
        "\n",
        "  # Adjust the label size.\n",
        "  ax.yaxis.label.set_size(20)\n",
        "  ax.xaxis.label.set_size(20)\n",
        "  ax.title.set_size(20)\n",
        "\n",
        "  # Set threshold for different colors.\n",
        "  threshold = (cm.max() + cm.min()) / 2.\n",
        "\n",
        "  # Plot the text on each cell.\n",
        "  for i, j in itertools.product(range(cm.shape[0]), range(cm.shape[1])):\n",
        "    plt.text(j, i, f\"{cm[i, j]} ({cm_norm[i, j]*100:.1f}%)\",\n",
        "            horizontalalignment = \"center\",\n",
        "            color = \"white\" if cm[i, j] > threshold else \"black\",\n",
        "            size = 15)"
      ]
    }
  ]
}